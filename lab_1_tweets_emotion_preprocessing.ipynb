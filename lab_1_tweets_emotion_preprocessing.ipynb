{
  "nbformat": 4,
  "nbformat_minor": 0,
  "metadata": {
    "colab": {
      "provenance": []
    },
    "kernelspec": {
      "name": "python3",
      "display_name": "Python 3"
    },
    "language_info": {
      "name": "python"
    }
  },
  "cells": [
    {
      "cell_type": "markdown",
      "source": [],
      "metadata": {
        "id": "KcTXCfJHtR1V"
      }
    },
    {
      "cell_type": "code",
      "metadata": {
        "id": "DsU90gi9x_Wt"
      },
      "source": [
        "from google.colab import drive"
      ],
      "execution_count": null,
      "outputs": []
    },
    {
      "cell_type": "code",
      "metadata": {
        "colab": {
          "base_uri": "https://localhost:8080/"
        },
        "id": "UgDY8xN2xcLt",
        "outputId": "0c8ecb53-ee56-4d83-f9e2-3b47b6c9db7a"
      },
      "source": [
        "import keras\n",
        "import pandas as pd\n",
        "import numpy as np\n",
        "import string\n",
        "import re\n",
        "from nltk.corpus import stopwords\n",
        "\n",
        "import nltk\n",
        "nltk.download('stopwords')\n",
        "\n",
        "\n",
        "\n",
        "from collections import Counter\n",
        "import nltk\n",
        "from nltk.tokenize import WordPunctTokenizer\n",
        "\n",
        "import sklearn\n",
        "from sklearn.feature_extraction.text import TfidfVectorizer\n",
        "\n",
        "\n",
        "import os\n",
        "import nltk\n",
        "import numpy as np\n",
        "import json\n",
        "import matplotlib.pyplot as plt\n",
        "\n",
        "\n",
        "from nltk.stem.lancaster import LancasterStemmer\n",
        "\n"
      ],
      "execution_count": null,
      "outputs": [
        {
          "output_type": "stream",
          "name": "stdout",
          "text": [
            "[nltk_data] Downloading package stopwords to /root/nltk_data...\n",
            "[nltk_data]   Unzipping corpora/stopwords.zip.\n"
          ]
        }
      ]
    },
    {
      "cell_type": "code",
      "metadata": {
        "id": "SplYVf8Px9TK",
        "colab": {
          "base_uri": "https://localhost:8080/"
        },
        "outputId": "2d2aedb4-c566-4872-859d-a896592457b7"
      },
      "source": [
        "drive.mount(\"/content/drive/\")\n"
      ],
      "execution_count": null,
      "outputs": [
        {
          "output_type": "stream",
          "name": "stdout",
          "text": [
            "Drive already mounted at /content/drive/; to attempt to forcibly remount, call drive.mount(\"/content/drive/\", force_remount=True).\n"
          ]
        }
      ]
    },
    {
      "cell_type": "code",
      "metadata": {
        "colab": {
          "base_uri": "https://localhost:8080/",
          "height": 454
        },
        "id": "ldyUQ7YM0Fg5",
        "outputId": "c2f05f09-2f1f-4014-8d50-785ca7a9bec0"
      },
      "source": [
        "#load train data\n",
        "cols = ['id', 'tweet', 'emotion', 'intensity']\n",
        "path = \"/content/drive/My Drive/Tweet Emotion Intensity Dataset/\"\n",
        "anger_train = pd.read_csv(path + 'anger_train.txt', header=None, sep='\\t', names=cols, index_col=0)\n",
        "fear_train = pd.read_csv(path + 'fear_train.txt', header=None, sep='\\t', names=cols, index_col=0)\n",
        "sad_train = pd.read_csv(path + 'sadness_train.txt', header=None, sep='\\t', names=cols, index_col=0)\n",
        "joy_train = pd.read_csv(path + 'joy_train.txt', header=None, sep='\\t', names=cols, index_col=0)\n",
        "\n",
        "joy_train"
      ],
      "execution_count": null,
      "outputs": [
        {
          "output_type": "execute_result",
          "data": {
            "text/html": [
              "<div>\n",
              "<style scoped>\n",
              "    .dataframe tbody tr th:only-of-type {\n",
              "        vertical-align: middle;\n",
              "    }\n",
              "\n",
              "    .dataframe tbody tr th {\n",
              "        vertical-align: top;\n",
              "    }\n",
              "\n",
              "    .dataframe thead th {\n",
              "        text-align: right;\n",
              "    }\n",
              "</style>\n",
              "<table border=\"1\" class=\"dataframe\">\n",
              "  <thead>\n",
              "    <tr style=\"text-align: right;\">\n",
              "      <th></th>\n",
              "      <th>tweet</th>\n",
              "      <th>emotion</th>\n",
              "      <th>intensity</th>\n",
              "    </tr>\n",
              "    <tr>\n",
              "      <th>id</th>\n",
              "      <th></th>\n",
              "      <th></th>\n",
              "      <th></th>\n",
              "    </tr>\n",
              "  </thead>\n",
              "  <tbody>\n",
              "    <tr>\n",
              "      <th>30000</th>\n",
              "      <td>Just got back from seeing @GaryDelaney in Burs...</td>\n",
              "      <td>joy</td>\n",
              "      <td>0.980</td>\n",
              "    </tr>\n",
              "    <tr>\n",
              "      <th>30001</th>\n",
              "      <td>Oh dear an evening of absolute hilarity I don'...</td>\n",
              "      <td>joy</td>\n",
              "      <td>0.958</td>\n",
              "    </tr>\n",
              "    <tr>\n",
              "      <th>30002</th>\n",
              "      <td>Been waiting all week for this game â¤ï¸â¤ï...</td>\n",
              "      <td>joy</td>\n",
              "      <td>0.940</td>\n",
              "    </tr>\n",
              "    <tr>\n",
              "      <th>30003</th>\n",
              "      <td>@gardiner_love : Thank you so much, Gloria! Yo...</td>\n",
              "      <td>joy</td>\n",
              "      <td>0.938</td>\n",
              "    </tr>\n",
              "    <tr>\n",
              "      <th>30004</th>\n",
              "      <td>I feel so blessed to work with the family that...</td>\n",
              "      <td>joy</td>\n",
              "      <td>0.938</td>\n",
              "    </tr>\n",
              "    <tr>\n",
              "      <th>...</th>\n",
              "      <td>...</td>\n",
              "      <td>...</td>\n",
              "      <td>...</td>\n",
              "    </tr>\n",
              "    <tr>\n",
              "      <th>30818</th>\n",
              "      <td>It's just the lack of company and liveliness o...</td>\n",
              "      <td>joy</td>\n",
              "      <td>0.058</td>\n",
              "    </tr>\n",
              "    <tr>\n",
              "      <th>30819</th>\n",
              "      <td>Quinn's short hair makes me sad. #glee</td>\n",
              "      <td>joy</td>\n",
              "      <td>0.040</td>\n",
              "    </tr>\n",
              "    <tr>\n",
              "      <th>30820</th>\n",
              "      <td>hate overthinking e v e r y t h i n g like i j...</td>\n",
              "      <td>joy</td>\n",
              "      <td>0.040</td>\n",
              "    </tr>\n",
              "    <tr>\n",
              "      <th>30821</th>\n",
              "      <td>People who cheer for sports teams completely o...</td>\n",
              "      <td>joy</td>\n",
              "      <td>0.020</td>\n",
              "    </tr>\n",
              "    <tr>\n",
              "      <th>30822</th>\n",
              "      <td>@DamnPatriot You're a POS for rejoicing in som...</td>\n",
              "      <td>joy</td>\n",
              "      <td>0.019</td>\n",
              "    </tr>\n",
              "  </tbody>\n",
              "</table>\n",
              "<p>823 rows × 3 columns</p>\n",
              "</div>"
            ],
            "text/plain": [
              "                                                   tweet emotion  intensity\n",
              "id                                                                         \n",
              "30000  Just got back from seeing @GaryDelaney in Burs...     joy      0.980\n",
              "30001  Oh dear an evening of absolute hilarity I don'...     joy      0.958\n",
              "30002  Been waiting all week for this game â¤ï¸â¤ï...     joy      0.940\n",
              "30003  @gardiner_love : Thank you so much, Gloria! Yo...     joy      0.938\n",
              "30004  I feel so blessed to work with the family that...     joy      0.938\n",
              "...                                                  ...     ...        ...\n",
              "30818  It's just the lack of company and liveliness o...     joy      0.058\n",
              "30819             Quinn's short hair makes me sad. #glee     joy      0.040\n",
              "30820  hate overthinking e v e r y t h i n g like i j...     joy      0.040\n",
              "30821  People who cheer for sports teams completely o...     joy      0.020\n",
              "30822  @DamnPatriot You're a POS for rejoicing in som...     joy      0.019\n",
              "\n",
              "[823 rows x 3 columns]"
            ]
          },
          "metadata": {},
          "execution_count": 5
        }
      ]
    },
    {
      "cell_type": "code",
      "metadata": {
        "colab": {
          "base_uri": "https://localhost:8080/",
          "height": 614
        },
        "id": "nqZKPwhqvIKv",
        "outputId": "3cbde3de-2ca0-4112-b2f5-c2445906ce75"
      },
      "source": [
        "j_tweet=joy_train['tweet']\n",
        "j_emotion=joy_train['emotion']\n",
        "plt.scatter(j_tweet, j_emotion)\n",
        "plt.show()"
      ],
      "execution_count": null,
      "outputs": [
        {
          "output_type": "stream",
          "name": "stderr",
          "text": [
            "/usr/local/lib/python3.7/dist-packages/matplotlib/backends/backend_agg.py:214: RuntimeWarning: Glyph 157 missing from current font.\n",
            "  font.set_text(s, 0.0, flags=flags)\n",
            "/usr/local/lib/python3.7/dist-packages/matplotlib/backends/backend_agg.py:214: RuntimeWarning: Glyph 143 missing from current font.\n",
            "  font.set_text(s, 0.0, flags=flags)\n",
            "/usr/local/lib/python3.7/dist-packages/matplotlib/backends/backend_agg.py:214: RuntimeWarning: Glyph 141 missing from current font.\n",
            "  font.set_text(s, 0.0, flags=flags)\n",
            "/usr/local/lib/python3.7/dist-packages/matplotlib/backends/backend_agg.py:214: RuntimeWarning: Glyph 144 missing from current font.\n",
            "  font.set_text(s, 0.0, flags=flags)\n",
            "/usr/local/lib/python3.7/dist-packages/matplotlib/backends/backend_agg.py:214: RuntimeWarning: Glyph 129 missing from current font.\n",
            "  font.set_text(s, 0.0, flags=flags)\n",
            "/usr/local/lib/python3.7/dist-packages/matplotlib/backends/backend_agg.py:183: RuntimeWarning: Glyph 157 missing from current font.\n",
            "  font.set_text(s, 0, flags=flags)\n",
            "/usr/local/lib/python3.7/dist-packages/matplotlib/backends/backend_agg.py:183: RuntimeWarning: Glyph 143 missing from current font.\n",
            "  font.set_text(s, 0, flags=flags)\n",
            "/usr/local/lib/python3.7/dist-packages/matplotlib/backends/backend_agg.py:183: RuntimeWarning: Glyph 141 missing from current font.\n",
            "  font.set_text(s, 0, flags=flags)\n",
            "/usr/local/lib/python3.7/dist-packages/matplotlib/backends/backend_agg.py:183: RuntimeWarning: Glyph 144 missing from current font.\n",
            "  font.set_text(s, 0, flags=flags)\n",
            "/usr/local/lib/python3.7/dist-packages/matplotlib/backends/backend_agg.py:183: RuntimeWarning: Glyph 129 missing from current font.\n",
            "  font.set_text(s, 0, flags=flags)\n"
          ]
        },
        {
          "output_type": "display_data",
          "data": {
            "image/png": "[encoded data removed]",
            "text/plain": [
              "<Figure size 432x288 with 1 Axes>"
            ]
          },
          "metadata": {
            "needs_background": "light"
          }
        }
      ]
    },
    {
      "cell_type": "code",
      "metadata": {
        "colab": {
          "base_uri": "https://localhost:8080/"
        },
        "id": "yyYSxHl-F0uV",
        "outputId": "07cebdd7-239a-4cd1-c66d-fbfdd70505ff"
      },
      "source": [
        "#gather training files in one\n",
        "frames_training = [anger_train, fear_train, sad_train, joy_train]\n",
        "data_training = pd.concat(frames_training)\n",
        "data_training.reset_index(inplace=True)\n",
        "data_training.emotion.value_counts()"
      ],
      "execution_count": null,
      "outputs": [
        {
          "output_type": "execute_result",
          "data": {
            "text/plain": [
              "fear       1147\n",
              "anger       857\n",
              "joy         823\n",
              "sadness     786\n",
              "Name: emotion, dtype: int64"
            ]
          },
          "metadata": {},
          "execution_count": 18
        }
      ]
    },
    {
      "cell_type": "code",
      "metadata": {
        "colab": {
          "base_uri": "https://localhost:8080/",
          "height": 424
        },
        "id": "P42PgAnWaEPp",
        "outputId": "431e3f9d-9f20-497f-e410-c28b0553bb21"
      },
      "source": [
        "data_training"
      ],
      "execution_count": null,
      "outputs": [
        {
          "output_type": "execute_result",
          "data": {
            "text/html": [
              "<div>\n",
              "<style scoped>\n",
              "    .dataframe tbody tr th:only-of-type {\n",
              "        vertical-align: middle;\n",
              "    }\n",
              "\n",
              "    .dataframe tbody tr th {\n",
              "        vertical-align: top;\n",
              "    }\n",
              "\n",
              "    .dataframe thead th {\n",
              "        text-align: right;\n",
              "    }\n",
              "</style>\n",
              "<table border=\"1\" class=\"dataframe\">\n",
              "  <thead>\n",
              "    <tr style=\"text-align: right;\">\n",
              "      <th></th>\n",
              "      <th>id</th>\n",
              "      <th>tweet</th>\n",
              "      <th>emotion</th>\n",
              "      <th>intensity</th>\n",
              "    </tr>\n",
              "  </thead>\n",
              "  <tbody>\n",
              "    <tr>\n",
              "      <th>0</th>\n",
              "      <td>10000</td>\n",
              "      <td>How the fu*k! Who the heck! moved my fridge!.....</td>\n",
              "      <td>anger</td>\n",
              "      <td>0.938</td>\n",
              "    </tr>\n",
              "    <tr>\n",
              "      <th>1</th>\n",
              "      <td>10001</td>\n",
              "      <td>So my Indian Uber driver just called someone t...</td>\n",
              "      <td>anger</td>\n",
              "      <td>0.896</td>\n",
              "    </tr>\n",
              "    <tr>\n",
              "      <th>2</th>\n",
              "      <td>10002</td>\n",
              "      <td>@DPD_UK I asked for my parcel to be delivered ...</td>\n",
              "      <td>anger</td>\n",
              "      <td>0.896</td>\n",
              "    </tr>\n",
              "    <tr>\n",
              "      <th>3</th>\n",
              "      <td>10003</td>\n",
              "      <td>so ef whichever butt wipe pulled the fire alar...</td>\n",
              "      <td>anger</td>\n",
              "      <td>0.896</td>\n",
              "    </tr>\n",
              "    <tr>\n",
              "      <th>4</th>\n",
              "      <td>10004</td>\n",
              "      <td>Don't join @BTCare they put the phone down on ...</td>\n",
              "      <td>anger</td>\n",
              "      <td>0.896</td>\n",
              "    </tr>\n",
              "    <tr>\n",
              "      <th>...</th>\n",
              "      <td>...</td>\n",
              "      <td>...</td>\n",
              "      <td>...</td>\n",
              "      <td>...</td>\n",
              "    </tr>\n",
              "    <tr>\n",
              "      <th>3608</th>\n",
              "      <td>30818</td>\n",
              "      <td>It's just the lack of company and liveliness o...</td>\n",
              "      <td>joy</td>\n",
              "      <td>0.058</td>\n",
              "    </tr>\n",
              "    <tr>\n",
              "      <th>3609</th>\n",
              "      <td>30819</td>\n",
              "      <td>Quinn's short hair makes me sad. #glee</td>\n",
              "      <td>joy</td>\n",
              "      <td>0.040</td>\n",
              "    </tr>\n",
              "    <tr>\n",
              "      <th>3610</th>\n",
              "      <td>30820</td>\n",
              "      <td>hate overthinking e v e r y t h i n g like i j...</td>\n",
              "      <td>joy</td>\n",
              "      <td>0.040</td>\n",
              "    </tr>\n",
              "    <tr>\n",
              "      <th>3611</th>\n",
              "      <td>30821</td>\n",
              "      <td>People who cheer for sports teams completely o...</td>\n",
              "      <td>joy</td>\n",
              "      <td>0.020</td>\n",
              "    </tr>\n",
              "    <tr>\n",
              "      <th>3612</th>\n",
              "      <td>30822</td>\n",
              "      <td>@DamnPatriot You're a POS for rejoicing in som...</td>\n",
              "      <td>joy</td>\n",
              "      <td>0.019</td>\n",
              "    </tr>\n",
              "  </tbody>\n",
              "</table>\n",
              "<p>3613 rows × 4 columns</p>\n",
              "</div>"
            ],
            "text/plain": [
              "         id  ... intensity\n",
              "0     10000  ...     0.938\n",
              "1     10001  ...     0.896\n",
              "2     10002  ...     0.896\n",
              "3     10003  ...     0.896\n",
              "4     10004  ...     0.896\n",
              "...     ...  ...       ...\n",
              "3608  30818  ...     0.058\n",
              "3609  30819  ...     0.040\n",
              "3610  30820  ...     0.040\n",
              "3611  30821  ...     0.020\n",
              "3612  30822  ...     0.019\n",
              "\n",
              "[3613 rows x 4 columns]"
            ]
          },
          "metadata": {},
          "execution_count": 19
        }
      ]
    },
    {
      "cell_type": "code",
      "metadata": {
        "id": "q6Iq4qeawAQk"
      },
      "source": [],
      "execution_count": null,
      "outputs": []
    },
    {
      "cell_type": "code",
      "metadata": {
        "colab": {
          "base_uri": "https://localhost:8080/",
          "height": 454
        },
        "id": "cM68_Tk3VNPC",
        "outputId": "a244b83a-a5c9-4f9b-ae07-ff70f3982f51"
      },
      "source": [
        "#load test data\n",
        "cols = ['id', 'tweet', 'emotion', 'intensity']\n",
        "path = \"/content/drive/My Drive/Tweet Emotion Intensity Dataset/\"\n",
        "anger_test = pd.read_csv(path + 'anger_test.txt', header=None, sep='\\t', names=cols, index_col=0)\n",
        "fear_test = pd.read_csv(path + 'fear_test.txt', header=None, sep='\\t', names=cols, index_col=0)\n",
        "sad_test = pd.read_csv(path + 'sad_test.txt', header=None, sep='\\t', names=cols, index_col=0)\n",
        "joy_test = pd.read_csv(path + 'joy_test.txt', header=None, sep='\\t', names=cols, index_col=0)\n",
        "\n",
        "joy_test"
      ],
      "execution_count": null,
      "outputs": [
        {
          "output_type": "execute_result",
          "data": {
            "text/html": [
              "<div>\n",
              "<style scoped>\n",
              "    .dataframe tbody tr th:only-of-type {\n",
              "        vertical-align: middle;\n",
              "    }\n",
              "\n",
              "    .dataframe tbody tr th {\n",
              "        vertical-align: top;\n",
              "    }\n",
              "\n",
              "    .dataframe thead th {\n",
              "        text-align: right;\n",
              "    }\n",
              "</style>\n",
              "<table border=\"1\" class=\"dataframe\">\n",
              "  <thead>\n",
              "    <tr style=\"text-align: right;\">\n",
              "      <th></th>\n",
              "      <th>tweet</th>\n",
              "      <th>emotion</th>\n",
              "      <th>intensity</th>\n",
              "    </tr>\n",
              "    <tr>\n",
              "      <th>id</th>\n",
              "      <th></th>\n",
              "      <th></th>\n",
              "      <th></th>\n",
              "    </tr>\n",
              "  </thead>\n",
              "  <tbody>\n",
              "    <tr>\n",
              "      <th>30902</th>\n",
              "      <td>You must be knowing #blithe means (adj.)  Happ...</td>\n",
              "      <td>joy</td>\n",
              "      <td>0.583</td>\n",
              "    </tr>\n",
              "    <tr>\n",
              "      <th>30903</th>\n",
              "      <td>Old saying 'A #smile shared is one gained for ...</td>\n",
              "      <td>joy</td>\n",
              "      <td>0.500</td>\n",
              "    </tr>\n",
              "    <tr>\n",
              "      <th>30904</th>\n",
              "      <td>Bridget Jones' Baby was bloody hilarious ðŸ˜… ...</td>\n",
              "      <td>joy</td>\n",
              "      <td>0.860</td>\n",
              "    </tr>\n",
              "    <tr>\n",
              "      <th>30905</th>\n",
              "      <td>@Elaminova sparkling water makes your life spa...</td>\n",
              "      <td>joy</td>\n",
              "      <td>0.521</td>\n",
              "    </tr>\n",
              "    <tr>\n",
              "      <th>30906</th>\n",
              "      <td>I'm tired of everybody telling me to chill out...</td>\n",
              "      <td>joy</td>\n",
              "      <td>0.042</td>\n",
              "    </tr>\n",
              "    <tr>\n",
              "      <th>...</th>\n",
              "      <td>...</td>\n",
              "      <td>...</td>\n",
              "      <td>...</td>\n",
              "    </tr>\n",
              "    <tr>\n",
              "      <th>31611</th>\n",
              "      <td>With a very tired body and mind and sparkling ...</td>\n",
              "      <td>joy</td>\n",
              "      <td>0.417</td>\n",
              "    </tr>\n",
              "    <tr>\n",
              "      <th>31612</th>\n",
              "      <td>I refuse to be a chirp chirp girl</td>\n",
              "      <td>joy</td>\n",
              "      <td>0.146</td>\n",
              "    </tr>\n",
              "    <tr>\n",
              "      <th>31613</th>\n",
              "      <td>It was very hard to stifle my laughter after I...</td>\n",
              "      <td>joy</td>\n",
              "      <td>0.646</td>\n",
              "    </tr>\n",
              "    <tr>\n",
              "      <th>31614</th>\n",
              "      <td>While I was walking, a little boy in a red shi...</td>\n",
              "      <td>joy</td>\n",
              "      <td>0.620</td>\n",
              "    </tr>\n",
              "    <tr>\n",
              "      <th>31615</th>\n",
              "      <td>Asked one thing from our guys tonight and got ...</td>\n",
              "      <td>joy</td>\n",
              "      <td>0.580</td>\n",
              "    </tr>\n",
              "  </tbody>\n",
              "</table>\n",
              "<p>714 rows × 3 columns</p>\n",
              "</div>"
            ],
            "text/plain": [
              "                                                   tweet emotion  intensity\n",
              "id                                                                         \n",
              "30902  You must be knowing #blithe means (adj.)  Happ...     joy      0.583\n",
              "30903  Old saying 'A #smile shared is one gained for ...     joy      0.500\n",
              "30904  Bridget Jones' Baby was bloody hilarious ðŸ˜… ...     joy      0.860\n",
              "30905  @Elaminova sparkling water makes your life spa...     joy      0.521\n",
              "30906  I'm tired of everybody telling me to chill out...     joy      0.042\n",
              "...                                                  ...     ...        ...\n",
              "31611  With a very tired body and mind and sparkling ...     joy      0.417\n",
              "31612                  I refuse to be a chirp chirp girl     joy      0.146\n",
              "31613  It was very hard to stifle my laughter after I...     joy      0.646\n",
              "31614  While I was walking, a little boy in a red shi...     joy      0.620\n",
              "31615  Asked one thing from our guys tonight and got ...     joy      0.580\n",
              "\n",
              "[714 rows x 3 columns]"
            ]
          },
          "metadata": {},
          "execution_count": 15
        }
      ]
    },
    {
      "cell_type": "code",
      "metadata": {
        "id": "lEsuXOg40LH4"
      },
      "source": [],
      "execution_count": null,
      "outputs": []
    },
    {
      "cell_type": "code",
      "metadata": {
        "colab": {
          "base_uri": "https://localhost:8080/"
        },
        "id": "MqneUbRnXTY2",
        "outputId": "ed10b114-cd8f-4409-8f63-10e3d8813c89"
      },
      "source": [
        "#gather test files in one\n",
        "frames_test = [anger_test, fear_test, sad_test, joy_test]\n",
        "data_test = pd.concat(frames_test)\n",
        "data_test.reset_index(inplace=True)\n",
        "data_test.emotion.value_counts()\n"
      ],
      "execution_count": null,
      "outputs": [
        {
          "output_type": "execute_result",
          "data": {
            "text/plain": [
              "fear       995\n",
              "anger      760\n",
              "joy        714\n",
              "sadness    673\n",
              "Name: emotion, dtype: int64"
            ]
          },
          "metadata": {},
          "execution_count": 16
        }
      ]
    },
    {
      "cell_type": "code",
      "metadata": {
        "colab": {
          "base_uri": "https://localhost:8080/"
        },
        "id": "E88dB7eEGBx2",
        "outputId": "56a1cbd8-dcce-4e48-9e09-8ddf48633394"
      },
      "source": [
        "\n",
        "\n",
        "print(data_test)\n",
        "print(type(data_test))\n",
        "\n",
        "print(data_training)\n",
        "print(type(data_training))\n",
        "\n"
      ],
      "execution_count": null,
      "outputs": [
        {
          "output_type": "stream",
          "name": "stdout",
          "text": [
            "         id  ... intensity\n",
            "0     10941  ...     0.319\n",
            "1     10942  ...     0.144\n",
            "2     10943  ...     0.898\n",
            "3     10944  ...     0.271\n",
            "4     10945  ...     0.646\n",
            "...     ...  ...       ...\n",
            "3137  31611  ...     0.417\n",
            "3138  31612  ...     0.146\n",
            "3139  31613  ...     0.646\n",
            "3140  31614  ...     0.620\n",
            "3141  31615  ...     0.580\n",
            "\n",
            "[3142 rows x 4 columns]\n",
            "<class 'pandas.core.frame.DataFrame'>\n",
            "         id  ... intensity\n",
            "0     10000  ...     0.938\n",
            "1     10001  ...     0.896\n",
            "2     10002  ...     0.896\n",
            "3     10003  ...     0.896\n",
            "4     10004  ...     0.896\n",
            "...     ...  ...       ...\n",
            "3608  30818  ...     0.058\n",
            "3609  30819  ...     0.040\n",
            "3610  30820  ...     0.040\n",
            "3611  30821  ...     0.020\n",
            "3612  30822  ...     0.019\n",
            "\n",
            "[3613 rows x 4 columns]\n",
            "<class 'pandas.core.frame.DataFrame'>\n"
          ]
        }
      ]
    },
    {
      "cell_type": "code",
      "metadata": {
        "id": "c1XxvDpfYixx"
      },
      "source": [],
      "execution_count": null,
      "outputs": []
    },
    {
      "cell_type": "code",
      "metadata": {
        "colab": {
          "base_uri": "https://localhost:8080/"
        },
        "id": "aJqcix1yGSsC",
        "outputId": "36ff8f31-c6df-4d58-b22c-cf3bd5b5f5ab"
      },
      "source": [
        "#compine test and train sets in one dataset\n",
        "frames_all = [anger_train, fear_train, sad_train, joy_train,anger_test, fear_test, sad_test, joy_test]\n",
        "all_data = pd.concat(frames_all)\n",
        "all_data.reset_index(inplace=True)\n",
        "all_data.emotion.value_counts()"
      ],
      "execution_count": null,
      "outputs": [
        {
          "output_type": "execute_result",
          "data": {
            "text/plain": [
              "fear       2142\n",
              "anger      1617\n",
              "joy        1537\n",
              "sadness    1459\n",
              "Name: emotion, dtype: int64"
            ]
          },
          "metadata": {},
          "execution_count": 21
        }
      ]
    },
    {
      "cell_type": "code",
      "metadata": {
        "colab": {
          "base_uri": "https://localhost:8080/"
        },
        "id": "Oycv-ZB2GhJG",
        "outputId": "ff31b449-ce99-403b-a182-8ec41e760a78"
      },
      "source": [
        "print(all_data.shape)\n",
        "print(type(all_data))"
      ],
      "execution_count": null,
      "outputs": [
        {
          "output_type": "stream",
          "name": "stdout",
          "text": [
            "(6755, 4)\n",
            "<class 'pandas.core.frame.DataFrame'>\n"
          ]
        }
      ]
    },
    {
      "cell_type": "code",
      "metadata": {
        "id": "hC2aB8t0cdXJ"
      },
      "source": [
        "#########################################untill here we have : data_test ,data_training ,all_data"
      ],
      "execution_count": null,
      "outputs": []
    },
    {
      "cell_type": "markdown",
      "metadata": {
        "id": "tZhC3mQayg0T"
      },
      "source": [
        "**Cleaning the dataset**\n",
        "\n",
        "remove everything from the reviews but letters. This will involve removing all punctuation marks such as commas, question marks, etc. The `sub` function from the `re` module can be used to replace the punctuation marks. After removing the punctuation marks, convert all the reviews to lower case."
      ]
    },
    {
      "cell_type": "code",
      "metadata": {
        "id": "UNskle4wxyR1"
      },
      "source": [
        "\n",
        "import re\n",
        "#building the function\n",
        "def clean_data(review):\n",
        "    review = re.sub('[^a-zA-Z]', ' ',review)\n",
        "    review = review.lower()\n",
        "    return review\n",
        "#apply\n",
        "data_training['tweet'] = data_training['tweet'].apply(clean_data)\n",
        "data_test['tweet']=data_training['tweet'].apply(clean_data)"
      ],
      "execution_count": null,
      "outputs": []
    },
    {
      "cell_type": "markdown",
      "metadata": {
        "id": "RDdOXxCwzaS9"
      },
      "source": [
        "**Removing stop words**\n",
        "\n",
        "The tweets also contain common words such as ‘the’, ‘at’, Let’s get rid of those.\n",
        "To remove them, using (nltk). Let’s import the package and download the stop words."
      ]
    },
    {
      "cell_type": "code",
      "metadata": {
        "colab": {
          "base_uri": "https://localhost:8080/"
        },
        "id": "RIWoJca-xyhk",
        "outputId": "d37f0728-db6a-45e0-82c3-8139f626c222"
      },
      "source": [
        "from nltk.corpus import stopwords\n",
        "\n",
        "import nltk\n",
        "nltk.download('stopwords')"
      ],
      "execution_count": null,
      "outputs": [
        {
          "output_type": "stream",
          "name": "stdout",
          "text": [
            "[nltk_data] Downloading package stopwords to /root/nltk_data...\n",
            "[nltk_data]   Package stopwords is already up-to-date!\n"
          ]
        },
        {
          "output_type": "execute_result",
          "data": {
            "text/plain": [
              "True"
            ]
          },
          "metadata": {},
          "execution_count": 23
        }
      ]
    },
    {
      "cell_type": "code",
      "metadata": {
        "id": "VTK8NVYJxyzp"
      },
      "source": [
        "#build the function\n",
        "\n",
        "def remove_stop_words(review):\n",
        "  review_minus_sw = []\n",
        "  stop_words = stopwords.words('english')\n",
        "  review = review.split()\n",
        "  review = [review_minus_sw.append(word) for word in review if word not in stop_words]\n",
        "  review = ' '.join(review_minus_sw)\n",
        "  return review\n",
        "\n",
        "  #apply\n",
        "data_training['tweet'] = data_training['tweet'].apply(remove_stop_words)\n",
        "data_test['tweet'] = data_training['tweet'].apply(remove_stop_words)"
      ],
      "execution_count": null,
      "outputs": []
    },
    {
      "cell_type": "markdown",
      "metadata": {
        "id": "jevXvkK21Idj"
      },
      "source": [
        "**Stemming and lemmatizing**\n",
        "\n",
        "\n",
        "Stemming : convert the words in the reviews to their root form.\n",
        "This process is important because it reduces the number of words that will be fed to the machine learning model.\n",
        "`nltk` can assist  in converting the words in their root form.\n",
        "This can be done using the `WordNetLemmatizer` utility.\n",
        " This can also be done using the `PorterStemmer`.\n",
        "Stemmers use algorithms to remove suffixes and prefixes from words and the final words may not be the dictionary representation of a word.\n",
        "for example:  example -> examp\n",
        "lemmatizers will usually convert a word to the dictionary representatio"
      ]
    },
    {
      "cell_type": "code",
      "metadata": {
        "colab": {
          "base_uri": "https://localhost:8080/"
        },
        "id": "yC0ulgQnxzKk",
        "outputId": "9a32b096-d52f-4e73-9018-ef1be48dd985"
      },
      "source": [
        "#pply the `WordNetLemmatizer`\n",
        "#creating the function\n",
        "nltk.download('wordnet')\n",
        "#WordNet is a lexical database of English.\n",
        "#Using synsets, helps find conceptual relationships between words\n",
        "# such as hypernyms, hyponyms, synonyms, antonyms etc.\n",
        "\n",
        "from nltk.corpus import stopwords\n",
        "from nltk.stem import WordNetLemmatizer\n",
        "\n",
        "lemmatizer=WordNetLemmatizer()\n",
        "\n",
        "def lematize(review):\n",
        "    review = review.split()\n",
        "    review = [lemmatizer.lemmatize(w) for w in review]\n",
        "    review = ' '.join(review)\n",
        "    return review\n",
        "    #applying\n",
        "data_training['tweet'] = data_training['tweet'].apply(lematize)"
      ],
      "execution_count": null,
      "outputs": [
        {
          "output_type": "stream",
          "name": "stdout",
          "text": [
            "[nltk_data] Downloading package wordnet to /root/nltk_data...\n",
            "[nltk_data]   Package wordnet is already up-to-date!\n"
          ]
        }
      ]
    },
    {
      "cell_type": "code",
      "metadata": {
        "colab": {
          "base_uri": "https://localhost:8080/"
        },
        "id": "8NB3MKQODUP9",
        "outputId": "2a1637cb-49ce-46b1-9aa8-d2e5be167b56"
      },
      "source": [
        "type(data_training['tweet'])"
      ],
      "execution_count": null,
      "outputs": [
        {
          "output_type": "execute_result",
          "data": {
            "text/plain": [
              "pandas.core.series.Series"
            ]
          },
          "metadata": {},
          "execution_count": 26
        }
      ]
    },
    {
      "cell_type": "markdown",
      "metadata": {
        "id": "isSx0TKPDpr-"
      },
      "source": [
        "**Creating a bag of words model**\n",
        "As of this moment, the reviews are still in text form. However, they have to be converted into some numeric representation before they can be passed to the machine learning model. A common way for representing the reviews is through the bag of words model. This is how the bag of words model is created:\n",
        "\n",
        "Group all the reviews into a corpus. A corpus simply means a collection of many documents in this case the reviews.\n",
        "Take all the words in the corpus and create a column with each word.\n",
        "Represent each review with a row.\n",
        "If a certain word exists in the review, represent it by a 1, and if the word doesn’t exist in the review, represent it with a 0.\n",
        "In the above representation, each word represents a single feature. The above process will result in a sparse matrix.\n"
      ]
    },
    {
      "cell_type": "code",
      "metadata": {
        "colab": {
          "base_uri": "https://localhost:8080/"
        },
        "id": "Bp-hM_cB5Yri",
        "outputId": "7eb00ea9-1cb8-434b-cc60-fac2d063788b"
      },
      "source": [
        "corpus = list(data_training['tweet'])\n",
        "#type(corpus)\n",
        "corpus_test = list(data_test['tweet'])\n",
        "type(corpus_test)"
      ],
      "execution_count": null,
      "outputs": [
        {
          "output_type": "execute_result",
          "data": {
            "text/plain": [
              "list"
            ]
          },
          "metadata": {},
          "execution_count": 27
        }
      ]
    },
    {
      "cell_type": "markdown",
      "metadata": {
        "id": "vgLKyEcSIrXz"
      },
      "source": [
        "The numerical representation mentioned above can be obtained using the `CountVectorizer` from Scikit-learn. The function requires us to define the maximum number of words that will be used in the bag of words. The next step is to fit the instantiated `CountVectorizer` to the reviews.  "
      ]
    },
    {
      "cell_type": "code",
      "metadata": {
        "id": "GgAcbVyvxzTI"
      },
      "source": [
        "from nltk.corpus import stopwords\n",
        "from nltk.stem import WordNetLemmatizer"
      ],
      "execution_count": null,
      "outputs": []
    },
    {
      "cell_type": "code",
      "metadata": {
        "id": "8-lSCxdiItRC"
      },
      "source": [
        "from sklearn.feature_extraction.text import CountVectorizer\n",
        "\n",
        "#cv = CountVectorizer(max_features = 1000)\n",
        " # Stop words are common words in English that don't tell us anything about the polarity of a review.\n",
        "    # Such words include the, that, and a\n",
        "# Converts a collection of text documents to a matrix of token counts\n",
        "# max_features = maximum number of words we'd like to have in our bag of words model\n",
        "#X_train = cv.fit_transform(corpus).toarray()\n",
        "#X_train\n",
        "#y = data_training['emotion'].values\n",
        "\n",
        "#cv.get_feature_names()"
      ],
      "execution_count": null,
      "outputs": []
    },
    {
      "cell_type": "markdown",
      "metadata": {
        "id": "awonbIvdKWMx"
      },
      "source": [
        "**From occurrences to frequencies**\n",
        "dividing the total occurrences of a word by the total number of words. This results in new features known as tf, short for Term Frequencies. The problem with this is that common words will tend to have a higher tf. This challenge is addressed by downscaling the weight carried by the common words. The downscaling is referred to as tf–idf short for Term Frequency Inverse Document Frequency.\n"
      ]
    },
    {
      "cell_type": "code",
      "metadata": {
        "id": "3AcOlTLG1X5f"
      },
      "source": [
        "\n",
        "#from sklearn.feature_extraction.text import TfidfTransformer\n",
        "#tf_transformer = TfidfTransformer()\n",
        "#X = tf_transformer.fit_transform(X).toarray()"
      ],
      "execution_count": null,
      "outputs": []
    },
    {
      "cell_type": "markdown",
      "metadata": {
        "id": "GSsCev7ILFlS"
      },
      "source": [
        "**Fitting CountVectorizer followed by TfidfTransformer**\n",
        "\n",
        "Scikit-learn **TfidfVectorizer** used to apply both of them"
      ]
    },
    {
      "cell_type": "code",
      "metadata": {
        "id": "2Lp9G-tQPxGf",
        "colab": {
          "base_uri": "https://localhost:8080/"
        },
        "outputId": "91c45301-838b-42e9-9f05-8ad1655eaec6"
      },
      "source": [
        "from sklearn.feature_extraction.text import TfidfVectorizer\n",
        "tfidfVectorizer = TfidfVectorizer(max_features =1000)\n",
        "X_train = tfidfVectorizer.fit_transform(corpus).toarray()\n",
        "\n",
        "\n",
        "x_test= tfidfVectorizer.fit_transform(corpus_test).toarray()\n",
        "x_test\n",
        "#X_train[0:10,0:10]"
      ],
      "execution_count": null,
      "outputs": [
        {
          "output_type": "execute_result",
          "data": {
            "text/plain": [
              "array([[0., 0., 0., ..., 0., 0., 0.],\n",
              "       [0., 0., 0., ..., 0., 0., 0.],\n",
              "       [0., 0., 0., ..., 0., 0., 0.],\n",
              "       ...,\n",
              "       [0., 0., 0., ..., 0., 0., 0.],\n",
              "       [0., 0., 0., ..., 0., 0., 0.],\n",
              "       [0., 0., 0., ..., 0., 0., 0.]])"
            ]
          },
          "metadata": {},
          "execution_count": 32
        }
      ]
    },
    {
      "cell_type": "code",
      "metadata": {
        "id": "zkHslHuNL_fZ"
      },
      "source": [
        "#### the input now  training_data['emotion'] is clean  named  x_train"
      ],
      "execution_count": null,
      "outputs": []
    },
    {
      "cell_type": "markdown",
      "metadata": {
        "id": "rA35cHTBsACx"
      },
      "source": [
        "**Padding**\n",
        "\n",
        "At the moment each review is represented by a sequence of integers.\n",
        "The only problem here is that the sequences are of different lengths.\n",
        "the data passed to a machine learning model is of the same length.\n",
        "Therefore, the sequences have to be forced to be of the same length.\n",
        "This is done by padding shorter sequences with zeros and dropping off some integers on very long sequences.\n",
        "This means that we have to define the maximum length of every sequence. Let’s use 100 now.\n",
        "\n"
      ]
    },
    {
      "cell_type": "code",
      "metadata": {
        "colab": {
          "base_uri": "https://localhost:8080/"
        },
        "id": "tHZFSeSk2_Vh",
        "outputId": "911784d2-40ee-4a31-ef13-fb1e08a972e7"
      },
      "source": [
        "from tensorflow.keras.preprocessing.sequence import pad_sequences\n",
        "\n",
        "max_length = 164\n",
        "X_train_pad = pad_sequences(X_train, maxlen=max_length, padding='post')\n",
        "x_test_pad = pad_sequences(x_test, maxlen=max_length, padding='post')\n",
        "X_train_pad[0]"
      ],
      "execution_count": null,
      "outputs": [
        {
          "output_type": "execute_result",
          "data": {
            "text/plain": [
              "array([0, 0, 0, 0, 0, 0, 0, 0, 0, 0, 0, 0, 0, 0, 0, 0, 0, 0, 0, 0, 0, 0,\n",
              "       0, 0, 0, 0, 0, 0, 0, 0, 0, 0, 0, 0, 0, 0, 0, 0, 0, 0, 0, 0, 0, 0,\n",
              "       0, 0, 0, 0, 0, 0, 0, 0, 0, 0, 0, 0, 0, 0, 0, 0, 0, 0, 0, 0, 0, 0,\n",
              "       0, 0, 0, 0, 0, 0, 0, 0, 0, 0, 0, 0, 0, 0, 0, 0, 0, 0, 0, 0, 0, 0,\n",
              "       0, 0, 0, 0, 0, 0, 0, 0, 0, 0, 0, 0, 0, 0, 0, 0, 0, 0, 0, 0, 0, 0,\n",
              "       0, 0, 0, 0, 0, 0, 0, 0, 0, 0, 0, 0, 0, 0, 0, 0, 0, 0, 0, 0, 0, 0,\n",
              "       0, 0, 0, 0, 0, 0, 0, 0, 0, 0, 0, 0, 0, 0, 0, 0, 0, 0, 0, 0, 0, 0,\n",
              "       0, 0, 0, 0, 0, 0, 0, 0, 0, 0], dtype=int32)"
            ]
          },
          "metadata": {},
          "execution_count": 33
        }
      ]
    },
    {
      "cell_type": "code",
      "metadata": {
        "id": "g1LfW7Lsg40e"
      },
      "source": [
        "X_train_pad = list(X_train_pad)\n",
        "x_test_pad = list(x_test_pad)\n"
      ],
      "execution_count": null,
      "outputs": []
    },
    {
      "cell_type": "code",
      "metadata": {
        "id": "UZtwmh7iVgdT"
      },
      "source": [
        "\n",
        "    ######  make a classification label list encoding our 4 classes **\n",
        "\n",
        "###############################################################33remmember up\n",
        "encoded_emotions_training=[]\n",
        "for j in data_training['emotion']:\n",
        "  if j == \"anger\":\n",
        "    encoded_emotions_training.append([1,0,0,0])\n",
        "  elif j == \"fear\":\n",
        "    encoded_emotions_training.append([0,1,0,0])\n",
        "  elif j == \"sadness\":\n",
        "    encoded_emotions_training.append([0,0,1,0])\n",
        "  elif j == \"joy\":\n",
        "    encoded_emotions_training.append([0,0,0,1])\n",
        "  else:\n",
        "    pass"
      ],
      "execution_count": null,
      "outputs": []
    },
    {
      "cell_type": "code",
      "metadata": {
        "id": "4h81s34mXXx8"
      },
      "source": [
        "encoded_emotions_test=[]\n",
        "for j in data_test['emotion']:\n",
        "  if j == \"anger\":\n",
        "    encoded_emotions_test.append([1,0,0,0])\n",
        "  elif j == \"fear\":\n",
        "    encoded_emotions_test.append([0,1,0,0])\n",
        "  elif j == \"sadness\":\n",
        "    encoded_emotions_test.append([0,0,1,0])\n",
        "  elif j == \"joy\":\n",
        "    encoded_emotions_test.append([0,0,0,1])\n",
        "  else:\n",
        "    pass\n"
      ],
      "execution_count": null,
      "outputs": []
    },
    {
      "cell_type": "code",
      "metadata": {
        "id": "bjhPG1mitN6E"
      },
      "source": [
        "encoded_emotions_training = list(encoded_emotions_training)\n",
        "encoded_emotions_test = list(encoded_emotions_test)"
      ],
      "execution_count": null,
      "outputs": []
    },
    {
      "cell_type": "markdown",
      "metadata": {
        "id": "GKm6GOK6hcII"
      },
      "source": [
        "Shuffle the dataset"
      ]
    },
    {
      "cell_type": "code",
      "metadata": {
        "id": "1BoYcvrNhFaP"
      },
      "source": [
        "import random\n",
        "train = list(zip(X_train_pad, encoded_emotions_training))\n",
        "test = list(zip(x_test_pad, encoded_emotions_test))\n",
        "\n",
        "X_train_pad, encoded_emotions_training = zip(*train)\n",
        "x_test_pad, encoded_emotions_test = zip(*test)\n",
        "\n",
        "\n",
        "random.shuffle(train)\n",
        "random.shuffle(test)"
      ],
      "execution_count": null,
      "outputs": []
    },
    {
      "cell_type": "code",
      "metadata": {
        "id": "TU_s001k1y0N"
      },
      "source": [],
      "execution_count": null,
      "outputs": []
    },
    {
      "cell_type": "markdown",
      "metadata": {
        "id": "pkJB-oBAMADD"
      },
      "source": [
        "**CNN**\n",
        "\n",
        "using TensorFlow to build the convolutional neural network for text classification\n",
        "\n",
        "**1-D Convolutions over text**\n",
        "The convolution network will be made of of the following:\n",
        "\n",
        "- An embedding layer that turns the data into dense vectors of fixed size. More on this later.\n",
        "- A `Conv1D` with 128 units with the `relu` activation function.\n",
        "- A `GlobalMaxPooling1D` layer that downsamples the input by taking the maximum value.\n",
        "- A `Dense` layer with 10 units for the fully connected layer.\n",
        "- An output layer with the sigmoid activation function because this is a binary problem.\n",
        "\n",
        "**Data In CNN**\n",
        "\n",
        "As seen earlier, the data has to be converted in some numerical representation.\n",
        " The `one_hot` function can be used to do this.\n",
        "The function will encode the reviews into a list of integers. It expects the following arguments:\n",
        "\n",
        "- `text` that is the text to be encoded\n",
        "- `n` the size of the vocabulary\n",
        "- `filters` specify the characters to be removed from the reviews such as punctuation marks and any other special characters\n",
        "- `lower` indicates if the reviews should be converted to lower case or not\n",
        "- `split` dictates how the reviews should be split"
      ]
    },
    {
      "cell_type": "code",
      "metadata": {
        "id": "cayqbW6f0PFx"
      },
      "source": [
        "from tensorflow.keras.models import Sequential\n",
        "from tensorflow.keras.layers import Embedding\n",
        "from keras.layers import Conv1D , Input , Flatten\n",
        "from tensorflow.keras.layers import GlobalMaxPooling1D\n",
        "from tensorflow.keras.layers import Dense\n",
        "from keras import layers\n",
        "from sklearn.preprocessing import MinMaxScaler"
      ],
      "execution_count": null,
      "outputs": []
    },
    {
      "cell_type": "code",
      "metadata": {
        "id": "hKEIU0yy0onN"
      },
      "source": [
        "# A integer input for vocab indices.\n",
        "inputs = keras.Input(shape=(None,), dtype=\"int64\")\n",
        "max_features=1000\n",
        "embedding_dim = 50\n",
        "x = layers.Embedding(max_features, embedding_dim)(inputs)\n",
        "x = layers.Dropout(0.5)(x)\n",
        "\n",
        "# Conv1D + global max pooling\n",
        "x = layers.Conv1D(128, 7, padding=\"valid\", activation=\"relu\", strides=3)(x)\n",
        "x = layers.Conv1D(128, 7, padding=\"valid\", activation=\"relu\", strides=3)(x)\n",
        "x = layers.GlobalMaxPooling1D()(x)\n",
        "\n",
        "# I added a vanilla hidden layer:\n",
        "x = layers.Dense(128, activation=\"relu\")(x)\n",
        "x = layers.Dropout(0.5)(x)\n",
        "\n",
        "predictions = layers.Dense(4, activation=\"sigmoid\", name=\"predictions\")(x)\n",
        "\n",
        "model_1 = keras.Model(inputs, predictions)\n",
        "\n",
        "# Compile the model with binary crossentropy loss and an adam optimizer.\n",
        "model_1.compile(loss='categorical_crossentropy', optimizer=\"adam\", metrics=['accuracy'])\n",
        "#model_1.compile(loss=\"SoftMax\", optimizer=\"adam\", metrics=[\"accuracy\"])"
      ],
      "execution_count": null,
      "outputs": []
    },
    {
      "cell_type": "code",
      "metadata": {
        "id": "Qqp29iRn0oxI"
      },
      "source": [
        "#prepare the model for training. Let’s apply the common `Adam` optimizer and the `binary_crossentropy` loss function.\n",
        "#model.compile(optimizer='adam', loss='binary_crossentropy', metrics=['acc'])"
      ],
      "execution_count": null,
      "outputs": []
    },
    {
      "cell_type": "code",
      "metadata": {
        "id": "oC6y2X17sKlT"
      },
      "source": [
        "x_test_pad=np.array(x_test_pad)\n",
        "X_train_pad=np.array(X_train_pad)\n",
        "encoded_emotions_training=np.array(encoded_emotions_training)\n",
        "encoded_emotions_test=np.array(encoded_emotions_test)"
      ],
      "execution_count": null,
      "outputs": []
    },
    {
      "cell_type": "code",
      "metadata": {
        "colab": {
          "base_uri": "https://localhost:8080/"
        },
        "id": "VAXGZDd10o6U",
        "outputId": "d154aac3-5aea-4833-df52-22ed61dd7099"
      },
      "source": [
        "# Fit the model using the train and test datasets.\n",
        "model_1.fit(X_train_pad, encoded_emotions_training, epochs=20)"
      ],
      "execution_count": null,
      "outputs": [
        {
          "output_type": "stream",
          "name": "stdout",
          "text": [
            "Epoch 1/20\n",
            "113/113 [==============================] - 4s 38ms/step - loss: 1.3688 - accuracy: 0.3186\n",
            "Epoch 2/20\n",
            "113/113 [==============================] - 4s 37ms/step - loss: 1.3690 - accuracy: 0.3188\n",
            "Epoch 3/20\n",
            "113/113 [==============================] - 4s 38ms/step - loss: 1.3689 - accuracy: 0.3188\n",
            "Epoch 4/20\n",
            "113/113 [==============================] - 4s 37ms/step - loss: 1.3691 - accuracy: 0.3186\n",
            "Epoch 5/20\n",
            "113/113 [==============================] - 4s 37ms/step - loss: 1.3697 - accuracy: 0.3180\n",
            "Epoch 6/20\n",
            "113/113 [==============================] - 4s 37ms/step - loss: 1.3694 - accuracy: 0.3186\n",
            "Epoch 7/20\n",
            "113/113 [==============================] - 4s 37ms/step - loss: 1.3688 - accuracy: 0.3188\n",
            "Epoch 8/20\n",
            "113/113 [==============================] - 4s 38ms/step - loss: 1.3691 - accuracy: 0.3186\n",
            "Epoch 9/20\n",
            "113/113 [==============================] - 4s 37ms/step - loss: 1.3690 - accuracy: 0.3188\n",
            "Epoch 10/20\n",
            "113/113 [==============================] - 4s 37ms/step - loss: 1.3697 - accuracy: 0.3186\n",
            "Epoch 11/20\n",
            "113/113 [==============================] - 4s 37ms/step - loss: 1.3690 - accuracy: 0.3183\n",
            "Epoch 12/20\n",
            "113/113 [==============================] - 4s 37ms/step - loss: 1.3695 - accuracy: 0.3183\n",
            "Epoch 13/20\n",
            "113/113 [==============================] - 4s 38ms/step - loss: 1.3691 - accuracy: 0.3188\n",
            "Epoch 14/20\n",
            "113/113 [==============================] - 4s 37ms/step - loss: 1.3688 - accuracy: 0.3188\n",
            "Epoch 15/20\n",
            "113/113 [==============================] - 4s 37ms/step - loss: 1.3689 - accuracy: 0.3180\n",
            "Epoch 16/20\n",
            "113/113 [==============================] - 4s 38ms/step - loss: 1.3691 - accuracy: 0.3183\n",
            "Epoch 17/20\n",
            "113/113 [==============================] - 4s 37ms/step - loss: 1.3694 - accuracy: 0.3183\n",
            "Epoch 18/20\n",
            "113/113 [==============================] - 4s 38ms/step - loss: 1.3691 - accuracy: 0.3188\n",
            "Epoch 19/20\n",
            "113/113 [==============================] - 4s 38ms/step - loss: 1.3690 - accuracy: 0.3191\n",
            "Epoch 20/20\n",
            "113/113 [==============================] - 4s 38ms/step - loss: 1.3691 - accuracy: 0.3183\n"
          ]
        },
        {
          "output_type": "execute_result",
          "data": {
            "text/plain": [
              "<keras.callbacks.History at 0x7fd1ca1a1690>"
            ]
          },
          "metadata": {},
          "execution_count": 84
        }
      ]
    },
    {
      "cell_type": "code",
      "metadata": {
        "colab": {
          "base_uri": "https://localhost:8080/"
        },
        "id": "8_Nt_wGp0pCq",
        "outputId": "7551c23b-bb42-462b-bcc0-d0d82469c276"
      },
      "source": [
        "print(model_1.summary())"
      ],
      "execution_count": null,
      "outputs": [
        {
          "output_type": "stream",
          "name": "stdout",
          "text": [
            "Model: \"model_5\"\n",
            "_________________________________________________________________\n",
            " Layer (type)                Output Shape              Param #   \n",
            "=================================================================\n",
            " input_10 (InputLayer)       [(None, None)]            0         \n",
            "                                                                 \n",
            " embedding_5 (Embedding)     (None, None, 50)          50000     \n",
            "                                                                 \n",
            " dropout_10 (Dropout)        (None, None, 50)          0         \n",
            "                                                                 \n",
            " conv1d_10 (Conv1D)          (None, None, 128)         44928     \n",
            "                                                                 \n",
            " conv1d_11 (Conv1D)          (None, None, 128)         114816    \n",
            "                                                                 \n",
            " global_max_pooling1d_5 (Glo  (None, 128)              0         \n",
            " balMaxPooling1D)                                                \n",
            "                                                                 \n",
            " dense_5 (Dense)             (None, 128)               16512     \n",
            "                                                                 \n",
            " dropout_11 (Dropout)        (None, 128)               0         \n",
            "                                                                 \n",
            " predictions (Dense)         (None, 4)                 516       \n",
            "                                                                 \n",
            "=================================================================\n",
            "Total params: 226,772\n",
            "Trainable params: 226,772\n",
            "Non-trainable params: 0\n",
            "_________________________________________________________________\n",
            "None\n"
          ]
        }
      ]
    },
    {
      "cell_type": "code",
      "metadata": {
        "id": "Kuj4djcA0pLi"
      },
      "source": [
        "result_1 = model_1.predict(x_test_pad)"
      ],
      "execution_count": null,
      "outputs": []
    },
    {
      "cell_type": "code",
      "metadata": {
        "colab": {
          "base_uri": "https://localhost:8080/"
        },
        "id": "2b0HZaRpvy-N",
        "outputId": "44062518-4c03-468a-fa22-f55dfba61beb"
      },
      "source": [
        "result_1[1:5] , encoded_emotions_test[1:5]"
      ],
      "execution_count": null,
      "outputs": [
        {
          "output_type": "execute_result",
          "data": {
            "text/plain": [
              "(array([[0.48944637, 0.55891037, 0.46867815, 0.4767882 ],\n",
              "        [0.48944637, 0.55891037, 0.46867815, 0.4767882 ],\n",
              "        [0.48944637, 0.55891037, 0.46867815, 0.4767882 ],\n",
              "        [0.48944637, 0.55891037, 0.46867815, 0.4767882 ]], dtype=float32),\n",
              " array([[1, 0, 0, 0],\n",
              "        [1, 0, 0, 0],\n",
              "        [1, 0, 0, 0],\n",
              "        [1, 0, 0, 0]]))"
            ]
          },
          "metadata": {},
          "execution_count": 87
        }
      ]
    },
    {
      "cell_type": "code",
      "metadata": {
        "colab": {
          "base_uri": "https://localhost:8080/"
        },
        "id": "X1URqvLWv9_6",
        "outputId": "836190fb-2f35-47e8-a485-9f799ae30c33"
      },
      "source": [
        "model_1.evaluate(x_test_pad, encoded_emotions_test)"
      ],
      "execution_count": null,
      "outputs": [
        {
          "output_type": "stream",
          "name": "stdout",
          "text": [
            "99/99 [==============================] - 1s 8ms/step - loss: 1.4137 - accuracy: 0.3176\n"
          ]
        },
        {
          "output_type": "execute_result",
          "data": {
            "text/plain": [
              "[1.4137200117111206, 0.3176320791244507]"
            ]
          },
          "metadata": {},
          "execution_count": 88
        }
      ]
    },
    {
      "cell_type": "code",
      "metadata": {
        "id": "K4TYcmoUT6C_"
      },
      "source": [
        "\n",
        "#Defining the model to be optimized\n",
        "vocab_size =[]\n",
        "max_length = []\n",
        "#def model_to_optimize(num_filters, kernel_size): #**optimization** in TensorFlow  a Scikit-learn wrapper enables  to apply grid search to a neural network.\n",
        "\n",
        " # model = Sequential([\n",
        " # embedding_layer,\n",
        " # Conv1D(num_filters, kernel_size, activation='relu'),\n",
        " # GlobalMaxPooling1D(),\n",
        " # Dense(10, activation='relu'),\n",
        " # Dense(1, activation='sigmoid')])\n",
        " # model.compile(loss='binary_crossentropy',optimizer='adam',metrics=['accuracy'])\n",
        "\n",
        "  #return model"
      ],
      "execution_count": null,
      "outputs": []
    }
  ]
}