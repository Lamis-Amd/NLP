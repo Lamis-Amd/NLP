{
  "nbformat": 4,
  "nbformat_minor": 0,
  "metadata": {
    "colab": {
      "provenance": [],
      "authorship_tag": "ABX9TyNv/EfQbvmAdSlpgzzwXvXb"
    },
    "kernelspec": {
      "name": "python3",
      "display_name": "Python 3"
    },
    "language_info": {
      "name": "python"
    }
  },
  "cells": [
    {
      "cell_type": "code",
      "execution_count": 1,
      "metadata": {
        "colab": {
          "base_uri": "https://localhost:8080/"
        },
        "id": "MnT8L1VuNbZI",
        "outputId": "03119923-225b-489e-fab0-886d7ce34fc6"
      },
      "outputs": [
        {
          "output_type": "stream",
          "name": "stdout",
          "text": [
            "Collecting textdistance\n",
            "  Downloading textdistance-4.6.1-py3-none-any.whl (31 kB)\n",
            "Installing collected packages: textdistance\n",
            "Successfully installed textdistance-4.6.1\n"
          ]
        }
      ],
      "source": [
        "!pip install textdistance"
      ]
    },
    {
      "cell_type": "code",
      "source": [
        "import textdistance\n",
        "\n",
        "# Function to perform spelling correction\n",
        "def correct_spelling(input_word, word_list):\n",
        "    # Calculate the Levenshtein distance between the input word and each word in the list\n",
        "    distances = [(word, textdistance.levenshtein.normalized_distance(input_word, word)) for word in word_list]\n",
        "\n",
        "    # Sort the list of words by their Levenshtein distances in ascending order\n",
        "    sorted_distances = sorted(distances, key=lambda x: x[1])\n",
        "\n",
        "    # Return the word with the lowest Levenshtein distance (likely the correct spelling)\n",
        "    return sorted_distances[0][0]\n",
        "\n",
        "# Example usage\n",
        "if __name__ == \"__main__\":\n",
        "    # List of words for testing\n",
        "    word_list = [\"apple\", \"banana\", \"orange\", \"grape\", \"kiwi\", \"pear\"]\n",
        "\n",
        "    # Input word with a misspelling\n",
        "    input_word = \"kiwii\"\n",
        "\n",
        "    # Perform spelling correction\n",
        "    corrected_word = correct_spelling(input_word, word_list)\n",
        "\n",
        "    # Output the corrected word\n",
        "    print(f\"Input word: {input_word}\")\n",
        "    print(f\"Corrected word: {corrected_word}\")"
      ],
      "metadata": {
        "colab": {
          "base_uri": "https://localhost:8080/"
        },
        "id": "wimmSdLuNc07",
        "outputId": "f8be185c-6f61-402d-a769-25f9db23a6a9"
      },
      "execution_count": 2,
      "outputs": [
        {
          "output_type": "stream",
          "name": "stdout",
          "text": [
            "Input word: kiwii\n",
            "Corrected word: kiwi\n"
          ]
        }
      ]
    }
  ]
}