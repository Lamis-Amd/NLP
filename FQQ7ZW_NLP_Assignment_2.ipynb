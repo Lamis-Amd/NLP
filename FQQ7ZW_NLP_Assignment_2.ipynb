{
  "nbformat": 4,
  "nbformat_minor": 0,
  "metadata": {
    "kernelspec": {
      "display_name": "Python 3",
      "language": "python",
      "name": "python3"
    },
    "language_info": {
      "codemirror_mode": {
        "name": "ipython",
        "version": 3
      },
      "file_extension": ".py",
      "mimetype": "text/x-python",
      "name": "python",
      "nbconvert_exporter": "python",
      "pygments_lexer": "ipython3",
      "version": "3.8.5"
    },
    "colab": {
      "provenance": []
    }
  },
  "cells": [
    {
      "cell_type": "code",
      "metadata": {
        "colab": {
          "base_uri": "https://localhost:8080/"
        },
        "id": "Bs_hvj0L5ujE",
        "outputId": "8dc3d80e-3bc7-47fd-ae26-97ff67bbd5a6"
      },
      "source": [
        "!pip install sklearn-crfsuite"
      ],
      "execution_count": null,
      "outputs": [
        {
          "output_type": "stream",
          "text": [
            "Requirement already satisfied: sklearn-crfsuite in /usr/local/lib/python3.7/dist-packages (0.3.6)\n",
            "Requirement already satisfied: six in /usr/local/lib/python3.7/dist-packages (from sklearn-crfsuite) (1.15.0)\n",
            "Requirement already satisfied: tabulate in /usr/local/lib/python3.7/dist-packages (from sklearn-crfsuite) (0.8.9)\n",
            "Requirement already satisfied: tqdm>=2.0 in /usr/local/lib/python3.7/dist-packages (from sklearn-crfsuite) (4.41.1)\n",
            "Requirement already satisfied: python-crfsuite>=0.8.3 in /usr/local/lib/python3.7/dist-packages (from sklearn-crfsuite) (0.9.7)\n"
          ],
          "name": "stdout"
        }
      ]
    },
    {
      "cell_type": "markdown",
      "metadata": {
        "id": "sDaFOWmE63B_"
      },
      "source": [
        "Import Libraries\n"
      ]
    },
    {
      "cell_type": "code",
      "metadata": {
        "scrolled": true,
        "colab": {
          "base_uri": "https://localhost:8080/"
        },
        "id": "epkkduu-2VB1",
        "outputId": "f2552c06-cc21-447b-a664-d637a30be003"
      },
      "source": [
        "\n",
        "import spacy\n",
        "from spacy.tokens import Doc\n",
        "nlp = spacy.load(\"en_core_web_sm\")\n",
        "import sklearn_crfsuite\n",
        "from sklearn_crfsuite import metrics\n",
        "\n",
        "import nltk\n",
        "from nltk.corpus import brown\n",
        "nltk.download('brown')\n",
        "nltk.download('universal_tagset')"
      ],
      "execution_count": null,
      "outputs": [
        {
          "output_type": "stream",
          "text": [
            "[nltk_data] Downloading package brown to /root/nltk_data...\n",
            "[nltk_data]   Package brown is already up-to-date!\n",
            "[nltk_data] Downloading package universal_tagset to /root/nltk_data...\n",
            "[nltk_data]   Package universal_tagset is already up-to-date!\n"
          ],
          "name": "stdout"
        },
        {
          "output_type": "execute_result",
          "data": {
            "text/plain": [
              "True"
            ]
          },
          "metadata": {
            "tags": []
          },
          "execution_count": 14
        }
      ]
    },
    {
      "cell_type": "code",
      "metadata": {
        "id": "kE5FC-sU2VB6"
      },
      "source": [
        "## Creating A function give me a list of lists\n",
        "\n",
        "def token2features(my_sen):\n",
        "    my_doc = Doc(nlp.vocab, words=my_sen)\n",
        "    my_list = []\n",
        "\n",
        "    for i  in range(len(my_doc)):\n",
        "      features = {\n",
        "          'lower': my_doc[i].lower_,\n",
        "          'suffix': my_doc[i].suffix_,\n",
        "          'prefix': my_doc[i].prefix_,\n",
        "          'isupper': my_doc[i].is_upper,\n",
        "          'istitle': my_doc[i].is_title,\n",
        "          'isdigit': my_doc[i].is_digit\n",
        "          }\n",
        "      if i > 0:\n",
        "          features.update({\n",
        "              '-1_lower': my_doc[i-1].lower_,\n",
        "              '-1_suffix': my_doc[i-1].suffix_,\n",
        "              '-1_prefix': my_doc[i-1].prefix_,\n",
        "              '-1_isupper': my_doc[i-1].is_upper,\n",
        "              '-1_istitle': my_doc[i-1].is_title,\n",
        "              '-1_isdigit': my_doc[i-1].is_digit\n",
        "          })\n",
        "      else:\n",
        "          features['BOS'] = True\n",
        "\n",
        "      if i < len(my_doc)-1:\n",
        "          features.update({\n",
        "              '+1_lower': my_doc[i+1].lower_,\n",
        "              '+1_suffix': my_doc[i+1].suffix_,\n",
        "              '+1_prefix': my_doc[i+1].prefix_,\n",
        "              '+1_isupper': my_doc[i+1].is_upper,\n",
        "              '+1_istitle': my_doc[i+1].is_title,\n",
        "              '+1_isdigit': my_doc[i+1].is_digit,\n",
        "          })\n",
        "      else:\n",
        "          features['EOS'] = True\n",
        "\n",
        "      my_list.append(features)\n",
        "\n",
        "    return my_list"
      ],
      "execution_count": null,
      "outputs": []
    },
    {
      "cell_type": "code",
      "metadata": {
        "id": "R1hB2rUH2VB8"
      },
      "source": [
        "## Download the brown corpus from NLTK\n",
        "my_sents = brown.tagged_sents(tagset=\"universal\")\n",
        "my_sents1 = brown.sents()"
      ],
      "execution_count": null,
      "outputs": []
    },
    {
      "cell_type": "code",
      "metadata": {
        "id": "MF3nrtdb7bh_"
      },
      "source": [
        "## Calling token2features function to the first sentens in brown curpos"
      ],
      "execution_count": null,
      "outputs": []
    },
    {
      "cell_type": "code",
      "metadata": {
        "id": "UNKhLy9X2VB9"
      },
      "source": [
        "inputs = [token2features(sent) for sent in my_sents1]\n",
        "outputs = [[s[1] for s in lis] for lis in my_sents]"
      ],
      "execution_count": null,
      "outputs": []
    },
    {
      "cell_type": "code",
      "metadata": {
        "id": "qaZ-mZhe2VB9"
      },
      "source": [
        "## splitting the data\n",
        "from sklearn.model_selection import train_test_split\n",
        "X_train, X_test, y_train, y_test = train_test_split(inputs,outputs, test_size=0.3,shuffle=False)"
      ],
      "execution_count": null,
      "outputs": []
    },
    {
      "cell_type": "code",
      "metadata": {
        "scrolled": true,
        "colab": {
          "base_uri": "https://localhost:8080/"
        },
        "id": "EX7FYMXy2VB_",
        "outputId": "d8b43bd7-efa5-4ff3-d9e7-904a30c6803a"
      },
      "source": [
        "## Building and training a POS tagger with CRF\n",
        "crf = sklearn_crfsuite.CRF(\n",
        "    algorithm='lbfgs',\n",
        "    c1=0.1,\n",
        "    c2=0.1,\n",
        "    max_iterations=100,\n",
        "    all_possible_transitions=True\n",
        ")\n",
        "crf.fit(X_train, y_train)"
      ],
      "execution_count": null,
      "outputs": [
        {
          "output_type": "stream",
          "text": [
            "/usr/local/lib/python3.7/dist-packages/sklearn/base.py:197: FutureWarning: From version 0.24, get_params will raise an AttributeError if a parameter cannot be retrieved as an instance attribute. Previously it would return None.\n",
            "  FutureWarning)\n"
          ],
          "name": "stderr"
        },
        {
          "output_type": "execute_result",
          "data": {
            "text/plain": [
              "CRF(algorithm='lbfgs', all_possible_states=None, all_possible_transitions=True,\n",
              "    averaging=None, c=None, c1=0.1, c2=0.1, calibration_candidates=None,\n",
              "    calibration_eta=None, calibration_max_trials=None, calibration_rate=None,\n",
              "    calibration_samples=None, delta=None, epsilon=None, error_sensitive=None,\n",
              "    gamma=None, keep_tempfiles=None, linesearch=None, max_iterations=100,\n",
              "    max_linesearch=None, min_freq=None, model_filename=None, num_memories=None,\n",
              "    pa_type=None, period=None, trainer_cls=None, variance=None, verbose=False)"
            ]
          },
          "metadata": {
            "tags": []
          },
          "execution_count": 20
        }
      ]
    },
    {
      "cell_type": "code",
      "metadata": {
        "colab": {
          "base_uri": "https://localhost:8080/"
        },
        "id": "sCtVBHSq-KKN",
        "outputId": "f39836d4-434c-4a0a-f222-33ac6326be33"
      },
      "source": [
        "## output\n",
        "labels = list(crf.classes_)\n",
        "\n",
        "labels"
      ],
      "execution_count": null,
      "outputs": [
        {
          "output_type": "execute_result",
          "data": {
            "text/plain": [
              "['DET',\n",
              " 'NOUN',\n",
              " 'ADJ',\n",
              " 'VERB',\n",
              " 'ADP',\n",
              " '.',\n",
              " 'ADV',\n",
              " 'CONJ',\n",
              " 'PRT',\n",
              " 'PRON',\n",
              " 'NUM',\n",
              " 'X']"
            ]
          },
          "metadata": {
            "tags": []
          },
          "execution_count": 22
        }
      ]
    },
    {
      "cell_type": "code",
      "metadata": {
        "colab": {
          "base_uri": "https://localhost:8080/"
        },
        "id": "ctXdWpxV2VCA",
        "outputId": "70968ba9-3bce-4828-fd00-679882084880"
      },
      "source": [
        "## prediction\n",
        "y_pred = crf.predict(X_test)\n",
        "metrics.flat_f1_score(y_test, y_pred, average='weighted', labels=labels)"
      ],
      "execution_count": null,
      "outputs": [
        {
          "output_type": "execute_result",
          "data": {
            "text/plain": [
              "0.9715029906977743"
            ]
          },
          "metadata": {
            "tags": []
          },
          "execution_count": 23
        }
      ]
    },
    {
      "cell_type": "code",
      "metadata": {
        "id": "uXonHOpGCMrV"
      },
      "source": [],
      "execution_count": null,
      "outputs": []
    },
    {
      "cell_type": "code",
      "metadata": {
        "colab": {
          "base_uri": "https://localhost:8080/"
        },
        "id": "WWoN7dhs2VCB",
        "outputId": "e29ac476-7f59-4d0b-c25e-f9c21e7a2825"
      },
      "source": [
        "## checking accuracy\n",
        "sorted_labels = sorted(labels,key=lambda name: (name[1:], name[0]))\n",
        "\n",
        "print(metrics.flat_classification_report(\n",
        "    y_test, y_pred, labels=sorted_labels, digits=3\n",
        "))"
      ],
      "execution_count": null,
      "outputs": [
        {
          "output_type": "stream",
          "text": [
            "              precision    recall  f1-score   support\n",
            "\n",
            "           .      1.000     1.000     1.000     42531\n",
            "           X      0.755     0.282     0.410       252\n",
            "         ADJ      0.904     0.894     0.899     14333\n",
            "         ADP      0.963     0.975     0.969     27622\n",
            "         ADV      0.934     0.918     0.926     15343\n",
            "        VERB      0.981     0.980     0.980     48403\n",
            "         DET      0.989     0.988     0.988     30034\n",
            "        CONJ      0.990     0.996     0.993      8689\n",
            "        NOUN      0.959     0.974     0.967     51226\n",
            "        PRON      0.992     0.985     0.989     20297\n",
            "         PRT      0.948     0.902     0.924     10020\n",
            "         NUM      0.930     0.986     0.957      1753\n",
            "\n",
            "    accuracy                          0.972    270503\n",
            "   macro avg      0.945     0.907     0.917    270503\n",
            "weighted avg      0.972     0.972     0.972    270503\n",
            "\n"
          ],
          "name": "stdout"
        }
      ]
    },
    {
      "cell_type": "code",
      "metadata": {
        "id": "ksdlWalX2VCF"
      },
      "source": [
        "## calling pos_tagger to use my model\n",
        "def pos_tagger(my_sentence):\n",
        "    if type(my_sentence) == str:\n",
        "        doc = nlp(my_sentence)\n",
        "        sentence = [word.text for word in doc]\n",
        "        my_Features = token2features(sentence)\n",
        "    prediction = crf.predict([my_Features])\n",
        "    return prediction"
      ],
      "execution_count": null,
      "outputs": []
    },
    {
      "cell_type": "markdown",
      "metadata": {
        "id": "Z_slUV1B6hdE"
      },
      "source": [
        "## creating Input feild"
      ]
    },
    {
      "cell_type": "code",
      "metadata": {
        "id": "TYVWrlNy2VCG",
        "colab": {
          "base_uri": "https://localhost:8080/"
        },
        "outputId": "cf1d60be-55be-4ad1-c7a2-ff1c41cda5e5"
      },
      "source": [
        "my_text = input('Isert an example: ')\n",
        "print(\"\\n\",pos_tagger(my_text)[0])"
      ],
      "execution_count": null,
      "outputs": [
        {
          "output_type": "stream",
          "text": [
            "Isert an example: I am a student\n",
            "\n",
            " ['PRON', 'VERB', 'DET', 'NOUN']\n"
          ],
          "name": "stdout"
        }
      ]
    },
    {
      "cell_type": "code",
      "metadata": {
        "id": "3qb_y66x2VCH"
      },
      "source": [],
      "execution_count": null,
      "outputs": []
    }
  ]
}